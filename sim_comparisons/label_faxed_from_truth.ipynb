{
 "cells": [
  {
   "cell_type": "code",
   "execution_count": 1,
   "metadata": {
    "collapsed": false
   },
   "outputs": [],
   "source": [
    "import ROOT\n",
    "import root_pandas\n",
    "import numpy as np\n",
    "import pandas as pd\n",
    "from root_pandas import read_root"
   ]
  },
  {
   "cell_type": "code",
   "execution_count": 2,
   "metadata": {
    "collapsed": false
   },
   "outputs": [],
   "source": [
    "# Only load in first 50,000 events\n",
    "for df in read_root('/home/shawaf/NR/mc_files/Xenon1T_ib1sp500mm_AmBe_g4mc_G4_Sort_AllNRs.root', chunksize = 2000):\n",
    "    df = df\n",
    "    break"
   ]
  },
  {
   "cell_type": "code",
   "execution_count": 3,
   "metadata": {
    "collapsed": false
   },
   "outputs": [],
   "source": [
    "def better_row(df_row,i):\n",
    "    \"\"\" Make a better row to analyze what is ms or ss from truth data, i is the index of the row \"\"\"\n",
    "    ed = []\n",
    "    ed.append(max(df_row.Fax_ed))\n",
    "    \n",
    "    s_a = np.where(df_row.Fax_ed == ed[0])\n",
    "    \n",
    "    s_a_x = df_row.Fax_x[s_a]\n",
    "    s_a_y = df_row.Fax_y[s_a]\n",
    "    s_a_z = df_row.Fax_z[s_a]\n",
    "    \n",
    "    if len(df_row.Fax_ed) > 1:\n",
    "        ed.append(sorted(df_row.Fax_ed)[- 2])\n",
    "        s_b = np.where(df_row.Fax_ed == ed[1])\n",
    "        s_b_x = df_row.Fax_x[s_b]\n",
    "        s_b_y = df_row.Fax_y[s_b]\n",
    "        s_b_z = df_row.Fax_z[s_b]\n",
    "        \n",
    "        s_dist = np.sqrt((s_a_x - s_b_x)**2 + (s_a_y - s_b_y)**2 + (s_a_z - s_b_z)**2)\n",
    "        \n",
    "    else:\n",
    "        ed.append(float('nan'))\n",
    "        s_dist = float('nan')\n",
    "\n",
    "\n",
    "    idx = df_row.index\n",
    "    \n",
    "    eventid = df_row.eventid\n",
    "    \n",
    "    return pd.DataFrame({\n",
    "        'eventid' : eventid,\n",
    "        'ed_a' : ed[0],\n",
    "        'ed_b' : ed[1],\n",
    "        's_dist' : s_dist\n",
    "    }, index = [i])"
   ]
  },
  {
   "cell_type": "code",
   "execution_count": 4,
   "metadata": {
    "collapsed": true
   },
   "outputs": [],
   "source": [
    "def better_df(df):\n",
    "    col_needed = better_row(df.iloc[0], 0)\n",
    "    ndf = pd.DataFrame(columns = list(col_needed))\n",
    "    for i in range(len(df)):\n",
    "        row = df.iloc[i]\n",
    "        br = better_row(row, i)\n",
    "        ndf = ndf.append(br)\n",
    "    return ndf"
   ]
  },
  {
   "cell_type": "code",
   "execution_count": 5,
   "metadata": {
    "collapsed": false
   },
   "outputs": [],
   "source": [
    "def classify_df(df):\n",
    "    \"\"\" \n",
    "    takes a \"better_df\" ready for classification\n",
    "    and classifies the events as  SS or not-SS \n",
    "\n",
    "    ed_a is the largest energy deposition\n",
    "    ed_b is second largest energy deposition\n",
    "\n",
    "    s_dist is the distance between these scatters\n",
    "\n",
    "    \"\"\"\n",
    "    # dummy\n",
    "    df['class'] = 4\n",
    "    \n",
    "    ed_a_lower_lim = 5.\n",
    "    ed_a_upper_lim = 100.\n",
    "\n",
    "    ed_b_lower_lim = 5.\n",
    "\n",
    "    s_dist_lim = 200.\n",
    "\n",
    "    for index, event in df.iterrows():\n",
    "        if (\n",
    "            ed_a_lower_lim < event.ed_a and\n",
    "             event.ed_a < ed_a_upper_lim and \n",
    "             ed_b_lower_lim < event.ed_b and \n",
    "             event.s_dist > s_dist_lim\n",
    "            ):\n",
    "            df['class'][index] = 1\n",
    "        else:\n",
    "            df['class'][index] = 2\n",
    "    return df"
   ]
  },
  {
   "cell_type": "code",
   "execution_count": 6,
   "metadata": {
    "collapsed": false
   },
   "outputs": [],
   "source": [
    "ndf = better_df(df)"
   ]
  },
  {
   "cell_type": "code",
   "execution_count": 7,
   "metadata": {
    "collapsed": false
   },
   "outputs": [
    {
     "name": "stderr",
     "output_type": "stream",
     "text": [
      "/home/shawaf/anaconda3/envs/pax/lib/python3.4/site-packages/ipykernel/__main__.py:31: SettingWithCopyWarning: \n",
      "A value is trying to be set on a copy of a slice from a DataFrame\n",
      "\n",
      "See the caveats in the documentation: http://pandas.pydata.org/pandas-docs/stable/indexing.html#indexing-view-versus-copy\n",
      "/home/shawaf/anaconda3/envs/pax/lib/python3.4/site-packages/ipykernel/__main__.py:29: SettingWithCopyWarning: \n",
      "A value is trying to be set on a copy of a slice from a DataFrame\n",
      "\n",
      "See the caveats in the documentation: http://pandas.pydata.org/pandas-docs/stable/indexing.html#indexing-view-versus-copy\n"
     ]
    }
   ],
   "source": [
    "cdf = classify_df(ndf)"
   ]
  },
  {
   "cell_type": "code",
   "execution_count": null,
   "metadata": {
    "collapsed": false
   },
   "outputs": [],
   "source": [
    "pd.read_pickle(\"/home/shawaf/data/mc_ambe_classify_test/mc_ambe_samp_2.pkl\")"
   ]
  },
  {
   "cell_type": "code",
   "execution_count": null,
   "metadata": {
    "collapsed": false
   },
   "outputs": [],
   "source": [
    "import matplotlib.pyplot as plt\n",
    "\n",
    "plt.hist(ndf.dropna().ed_b, bins = 20, normed = 1)\n",
    "plt.show()"
   ]
  },
  {
   "cell_type": "code",
   "execution_count": null,
   "metadata": {
    "collapsed": false
   },
   "outputs": [],
   "source": [
    "plt.hist(ndf.dropna().s_dist, normed = 1, bins=40)\n",
    "plt.show()"
   ]
  },
  {
   "cell_type": "code",
   "execution_count": null,
   "metadata": {
    "collapsed": true
   },
   "outputs": [],
   "source": []
  },
  {
   "cell_type": "code",
   "execution_count": null,
   "metadata": {
    "collapsed": false
   },
   "outputs": [],
   "source": [
    "# Load in sim data\n",
    "import hax\n",
    "\n",
    "# using modified version of Tianyu's OtherLargeS2s peak extractor\n",
    "from make_minitree import Peaks\n",
    "\n",
    "hax.init(experiment='XENON1T',\n",
    "         use_runs_db=False,\n",
    "         pax_version_policy='loose',\n",
    "         main_data_paths=['/home/shawaf/data/mc_ambe_samp/'],\n",
    "         minitree_paths = ['/home/shawaf/data/mc_ambe_samp/'])"
   ]
  },
  {
   "cell_type": "code",
   "execution_count": null,
   "metadata": {
    "collapsed": false
   },
   "outputs": [],
   "source": [
    "sim = hax.minitrees.load(\"mc_ambe_samp\",[Peaks])"
   ]
  },
  {
   "cell_type": "code",
   "execution_count": null,
   "metadata": {
    "collapsed": false
   },
   "outputs": [],
   "source": [
    "sim['nFax'] = df.nFax\n",
    "sim['ns'] = df.ns\n",
    "sim = sim.dropna(subset=['s1','s2'])"
   ]
  },
  {
   "cell_type": "code",
   "execution_count": null,
   "metadata": {
    "collapsed": false
   },
   "outputs": [],
   "source": [
    "ms = []\n",
    "\n",
    "for ns in sim.nFax:\n",
    "    if ns > 1:\n",
    "        ms.append(2)\n",
    "    elif ns == 1:\n",
    "        ms.append(1)\n",
    "    else:\n",
    "        ms.append(int('nan'))\n",
    "        \n",
    "sim['class'] = ms"
   ]
  },
  {
   "cell_type": "code",
   "execution_count": null,
   "metadata": {
    "collapsed": false
   },
   "outputs": [],
   "source": [
    "# Check everything is classified correctly\n",
    "sim[(sim.nFax > 1) & (sim['class'] == 1)]"
   ]
  },
  {
   "cell_type": "code",
   "execution_count": null,
   "metadata": {
    "collapsed": true
   },
   "outputs": [],
   "source": [
    "# sim.to_pickle('full_chain_ambe_faxed')"
   ]
  },
  {
   "cell_type": "code",
   "execution_count": null,
   "metadata": {
    "collapsed": true
   },
   "outputs": [],
   "source": []
  }
 ],
 "metadata": {
  "kernelspec": {
   "display_name": "Python 3",
   "language": "python",
   "name": "python3"
  },
  "language_info": {
   "codemirror_mode": {
    "name": "ipython",
    "version": 3
   },
   "file_extension": ".py",
   "mimetype": "text/x-python",
   "name": "python",
   "nbconvert_exporter": "python",
   "pygments_lexer": "ipython3",
   "version": "3.4.5"
  }
 },
 "nbformat": 4,
 "nbformat_minor": 2
}
