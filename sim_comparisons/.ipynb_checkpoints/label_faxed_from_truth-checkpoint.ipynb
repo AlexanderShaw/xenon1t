{
 "cells": [
  {
   "cell_type": "code",
   "execution_count": 4,
   "metadata": {
    "collapsed": false
   },
   "outputs": [],
   "source": [
    "import ROOT\n",
    "import root_pandas\n",
    "from root_pandas import read_root"
   ]
  },
  {
   "cell_type": "code",
   "execution_count": 5,
   "metadata": {
    "collapsed": false
   },
   "outputs": [],
   "source": [
    "# Only load in first 50,000 events\n",
    "for df in read_root('/home/shawaf/NR/mc_files/Xenon1T_ib1sp500mm_AmBe_g4mc_G4_Sort_AllNRs.root', chunksize = 50000):\n",
    "    df = df\n",
    "    break"
   ]
  },
  {
   "cell_type": "code",
   "execution_count": 2,
   "metadata": {
    "collapsed": false
   },
   "outputs": [
    {
     "name": "stderr",
     "output_type": "stream",
     "text": [
      "INFO:hax.__init__] Not looking for datasets in runs, db since you put use_runs_db = False\n",
      "WARNING:hax.__init__] You're not at a XENON analysis facility, or hax can't detect at which analysis facility you are.\n"
     ]
    }
   ],
   "source": [
    "# Load in sim data\n",
    "import hax\n",
    "\n",
    "# using modified version of Tianyu's OtherLargeS2s peak extractor\n",
    "from make_minitree import Peaks\n",
    "\n",
    "hax.init(experiment='XENON1T',\n",
    "         use_runs_db=False,\n",
    "         pax_version_policy='loose',\n",
    "         main_data_paths=['/home/shawaf/data/mc_ambe_samp/'],\n",
    "         minitree_paths = ['/home/shawaf/data/mc_ambe_samp/'])"
   ]
  },
  {
   "cell_type": "code",
   "execution_count": 3,
   "metadata": {
    "collapsed": false
   },
   "outputs": [
    {
     "name": "stderr",
     "output_type": "stream",
     "text": [
      "DEBUG:hax.minitrees] Found minitree at /home/shawaf/data/mc_ambe_samp/mc_ambe_samp_Peaks.root\n",
      "DEBUG:hax.minitrees] Found minitree at /home/shawaf/data/mc_ambe_samp/mc_ambe_samp_Peaks.root\n",
      "DEBUG:hax.minitrees] Removing weird index column\n"
     ]
    }
   ],
   "source": [
    "sim = hax.minitrees.load(\"mc_ambe_samp\",[Peaks])"
   ]
  },
  {
   "cell_type": "code",
   "execution_count": 7,
   "metadata": {
    "collapsed": false
   },
   "outputs": [],
   "source": [
    "sim['nFax'] = df.nFax\n",
    "sim['ns'] = df.ns\n",
    "sim = sim.dropna(subset=['s1','s2'])"
   ]
  },
  {
   "cell_type": "code",
   "execution_count": 11,
   "metadata": {
    "collapsed": false
   },
   "outputs": [],
   "source": [
    "ms = []\n",
    "\n",
    "for ns in sim.nFax:\n",
    "    if ns > 1:\n",
    "        ms.append(2)\n",
    "    elif ns == 1:\n",
    "        ms.append(1)\n",
    "    else:\n",
    "        ms.append(int('nan'))\n",
    "        \n",
    "sim['class'] = ms"
   ]
  },
  {
   "cell_type": "code",
   "execution_count": 24,
   "metadata": {
    "collapsed": false
   },
   "outputs": [
    {
     "data": {
      "text/html": [
       "<div>\n",
       "<table border=\"1\" class=\"dataframe\">\n",
       "  <thead>\n",
       "    <tr style=\"text-align: right;\">\n",
       "      <th></th>\n",
       "      <th>cs1</th>\n",
       "      <th>cs2</th>\n",
       "      <th>event_number</th>\n",
       "      <th>goodness_of_fit</th>\n",
       "      <th>run_number</th>\n",
       "      <th>s1</th>\n",
       "      <th>s2</th>\n",
       "      <th>s2_1_area</th>\n",
       "      <th>s2_1_delay_is1</th>\n",
       "      <th>s2_1_delay_is2</th>\n",
       "      <th>...</th>\n",
       "      <th>s2_5_y</th>\n",
       "      <th>s2_5_z</th>\n",
       "      <th>s2_delay_is1</th>\n",
       "      <th>s2_range_50p_area</th>\n",
       "      <th>x</th>\n",
       "      <th>y</th>\n",
       "      <th>z</th>\n",
       "      <th>nFax</th>\n",
       "      <th>ns</th>\n",
       "      <th>class</th>\n",
       "    </tr>\n",
       "  </thead>\n",
       "  <tbody>\n",
       "  </tbody>\n",
       "</table>\n",
       "<p>0 rows × 55 columns</p>\n",
       "</div>"
      ],
      "text/plain": [
       "Empty DataFrame\n",
       "Columns: [cs1, cs2, event_number, goodness_of_fit, run_number, s1, s2, s2_1_area, s2_1_delay_is1, s2_1_delay_is2, s2_1_goodness_of_fit, s2_1_range_50p_area, s2_1_x, s2_1_y, s2_1_z, s2_2_area, s2_2_delay_is1, s2_2_delay_is2, s2_2_goodness_of_fit, s2_2_range_50p_area, s2_2_x, s2_2_y, s2_2_z, s2_3_area, s2_3_delay_is1, s2_3_delay_is2, s2_3_goodness_of_fit, s2_3_range_50p_area, s2_3_x, s2_3_y, s2_3_z, s2_4_area, s2_4_delay_is1, s2_4_delay_is2, s2_4_goodness_of_fit, s2_4_range_50p_area, s2_4_x, s2_4_y, s2_4_z, s2_5_area, s2_5_delay_is1, s2_5_delay_is2, s2_5_goodness_of_fit, s2_5_range_50p_area, s2_5_x, s2_5_y, s2_5_z, s2_delay_is1, s2_range_50p_area, x, y, z, nFax, ns, class]\n",
       "Index: []\n",
       "\n",
       "[0 rows x 55 columns]"
      ]
     },
     "execution_count": 24,
     "metadata": {},
     "output_type": "execute_result"
    }
   ],
   "source": [
    "# Check everything is classified correctly\n",
    "sim[(sim.nFax > 1) & (sim['class'] == 1)]"
   ]
  },
  {
   "cell_type": "code",
   "execution_count": 26,
   "metadata": {
    "collapsed": true
   },
   "outputs": [],
   "source": [
    "# sim.to_pickle('full_chain_ambe_faxed')"
   ]
  },
  {
   "cell_type": "code",
   "execution_count": null,
   "metadata": {
    "collapsed": true
   },
   "outputs": [],
   "source": []
  }
 ],
 "metadata": {
  "kernelspec": {
   "display_name": "Python 3",
   "language": "python",
   "name": "python3"
  }
 },
 "nbformat": 4,
 "nbformat_minor": 2
}
